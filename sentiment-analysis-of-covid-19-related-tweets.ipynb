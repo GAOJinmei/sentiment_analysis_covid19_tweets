{
 "cells": [
  {
   "cell_type": "code",
   "execution_count": 1,
   "metadata": {},
   "outputs": [],
   "source": [
    "#importing required packages\n",
    "import sys\n",
    "import os\n",
    "\n",
    "import re #regular expression\n",
    "\n",
    "import pandas as pd #pandas data frame for holding the data\n",
    "from bs4 import BeautifulSoup #for cleaning the html boilerplate\n",
    "from nltk.corpus import stopwords #import the stopword list from nltk library\n",
    "from nltk.stem import WordNetLemmatizer #import the lemmatizer from nltk\n",
    "\n",
    "from sklearn.feature_extraction.text import TfidfVectorizer #import tfidf vectorizer from scikit-learn\n",
    "from sklearn.feature_extraction.text import HashingVectorizer\n",
    "from sklearn.feature_extraction.text import CountVectorizer\n",
    "from sklearn.linear_model import LogisticRegression #import the logistic regression model from scikit-learn\n",
    "\n",
    "from sklearn.metrics import confusion_matrix #import the confusion matrix\n",
    "from sklearn.metrics import classification_report #import the classification report to compute recall, prec, etc\n"
   ]
  },
  {
   "cell_type": "code",
   "execution_count": 2,
   "metadata": {},
   "outputs": [
    {
     "data": {
      "text/html": [
       "<div>\n",
       "<style scoped>\n",
       "    .dataframe tbody tr th:only-of-type {\n",
       "        vertical-align: middle;\n",
       "    }\n",
       "\n",
       "    .dataframe tbody tr th {\n",
       "        vertical-align: top;\n",
       "    }\n",
       "\n",
       "    .dataframe thead th {\n",
       "        text-align: right;\n",
       "    }\n",
       "</style>\n",
       "<table border=\"1\" class=\"dataframe\">\n",
       "  <thead>\n",
       "    <tr style=\"text-align: right;\">\n",
       "      <th></th>\n",
       "      <th>ID</th>\n",
       "      <th>Tweet</th>\n",
       "      <th>Labels</th>\n",
       "    </tr>\n",
       "  </thead>\n",
       "  <tbody>\n",
       "    <tr>\n",
       "      <th>0</th>\n",
       "      <td>1</td>\n",
       "      <td>NO JOKE I WILL HOP ON A PLANE RN! (Well after ...</td>\n",
       "      <td>0 10</td>\n",
       "    </tr>\n",
       "    <tr>\n",
       "      <th>1</th>\n",
       "      <td>2</td>\n",
       "      <td>BanMediaHouse whose is responsible for spreadi...</td>\n",
       "      <td>6</td>\n",
       "    </tr>\n",
       "    <tr>\n",
       "      <th>2</th>\n",
       "      <td>3</td>\n",
       "      <td>Im waiting for someone to say to me that all t...</td>\n",
       "      <td>3 4</td>\n",
       "    </tr>\n",
       "    <tr>\n",
       "      <th>3</th>\n",
       "      <td>4</td>\n",
       "      <td>He is a liar. Proven day night. Time again. Li...</td>\n",
       "      <td>6</td>\n",
       "    </tr>\n",
       "    <tr>\n",
       "      <th>4</th>\n",
       "      <td>5</td>\n",
       "      <td>NEW: U.S. CoronaVirus death toll reaches 4,000...</td>\n",
       "      <td>8</td>\n",
       "    </tr>\n",
       "  </tbody>\n",
       "</table>\n",
       "</div>"
      ],
      "text/plain": [
       "   ID                                              Tweet Labels\n",
       "0   1  NO JOKE I WILL HOP ON A PLANE RN! (Well after ...   0 10\n",
       "1   2  BanMediaHouse whose is responsible for spreadi...      6\n",
       "2   3  Im waiting for someone to say to me that all t...    3 4\n",
       "3   4  He is a liar. Proven day night. Time again. Li...      6\n",
       "4   5  NEW: U.S. CoronaVirus death toll reaches 4,000...      8"
      ]
     },
     "execution_count": 2,
     "metadata": {},
     "output_type": "execute_result"
    }
   ],
   "source": [
    "#loading the training dataset\n",
    "train_data = pd.read_csv('/Users/meimei/Documents/UT1/Data Analytics/sentiment-analysis-of-covid-19-related-tweets/training.csv', header=0, delimiter=',')\n",
    "\n",
    "#Show the top part of the data table\n",
    "train_data.head()\n"
   ]
  },
  {
   "cell_type": "code",
   "execution_count": 3,
   "metadata": {},
   "outputs": [
    {
     "name": "stdout",
     "output_type": "stream",
     "text": [
      "<class 'pandas.core.frame.DataFrame'>\n",
      "RangeIndex: 5000 entries, 0 to 4999\n",
      "Data columns (total 3 columns):\n",
      " #   Column  Non-Null Count  Dtype \n",
      "---  ------  --------------  ----- \n",
      " 0   ID      5000 non-null   int64 \n",
      " 1   Tweet   5000 non-null   object\n",
      " 2   Labels  5000 non-null   object\n",
      "dtypes: int64(1), object(2)\n",
      "memory usage: 117.3+ KB\n"
     ]
    }
   ],
   "source": [
    "#Get the basic information about the data\n",
    "train_data.info()"
   ]
  },
  {
   "cell_type": "code",
   "execution_count": 4,
   "metadata": {},
   "outputs": [
    {
     "data": {
      "text/html": [
       "<div>\n",
       "<style scoped>\n",
       "    .dataframe tbody tr th:only-of-type {\n",
       "        vertical-align: middle;\n",
       "    }\n",
       "\n",
       "    .dataframe tbody tr th {\n",
       "        vertical-align: top;\n",
       "    }\n",
       "\n",
       "    .dataframe thead th {\n",
       "        text-align: right;\n",
       "    }\n",
       "</style>\n",
       "<table border=\"1\" class=\"dataframe\">\n",
       "  <thead>\n",
       "    <tr style=\"text-align: right;\">\n",
       "      <th></th>\n",
       "      <th>ID</th>\n",
       "      <th>Tweet</th>\n",
       "    </tr>\n",
       "  </thead>\n",
       "  <tbody>\n",
       "    <tr>\n",
       "      <th>0</th>\n",
       "      <td>1</td>\n",
       "      <td>NO JOKE I WILL HOP ON A PLANE RN! (Well after ...</td>\n",
       "    </tr>\n",
       "    <tr>\n",
       "      <th>1</th>\n",
       "      <td>2</td>\n",
       "      <td>BanMediaHouse whose is responsible for spreadi...</td>\n",
       "    </tr>\n",
       "    <tr>\n",
       "      <th>2</th>\n",
       "      <td>3</td>\n",
       "      <td>Im waiting for someone to say to me that all t...</td>\n",
       "    </tr>\n",
       "    <tr>\n",
       "      <th>3</th>\n",
       "      <td>4</td>\n",
       "      <td>He is a liar. Proven day night. Time again. Li...</td>\n",
       "    </tr>\n",
       "    <tr>\n",
       "      <th>4</th>\n",
       "      <td>5</td>\n",
       "      <td>NEW: U.S. CoronaVirus death toll reaches 4,000...</td>\n",
       "    </tr>\n",
       "  </tbody>\n",
       "</table>\n",
       "</div>"
      ],
      "text/plain": [
       "   ID                                              Tweet\n",
       "0   1  NO JOKE I WILL HOP ON A PLANE RN! (Well after ...\n",
       "1   2  BanMediaHouse whose is responsible for spreadi...\n",
       "2   3  Im waiting for someone to say to me that all t...\n",
       "3   4  He is a liar. Proven day night. Time again. Li...\n",
       "4   5  NEW: U.S. CoronaVirus death toll reaches 4,000..."
      ]
     },
     "execution_count": 4,
     "metadata": {},
     "output_type": "execute_result"
    }
   ],
   "source": [
    "#Get the X variables\n",
    "X_train = train_data.drop([\"Labels\"], axis=1)\n",
    "X_train.head()"
   ]
  },
  {
   "cell_type": "code",
   "execution_count": 5,
   "metadata": {},
   "outputs": [
    {
     "data": {
      "text/plain": [
       "0    0 10\n",
       "1       6\n",
       "2     3 4\n",
       "3       6\n",
       "4       8\n",
       "Name: Labels, dtype: object"
      ]
     },
     "execution_count": 5,
     "metadata": {},
     "output_type": "execute_result"
    }
   ],
   "source": [
    "#Get the u variables\n",
    "y_train = train_data[\"Labels\"]\n",
    "y_train.head()"
   ]
  },
  {
   "cell_type": "code",
   "execution_count": 6,
   "metadata": {},
   "outputs": [
    {
     "data": {
      "text/plain": [
       "<AxesSubplot:ylabel='Labels'>"
      ]
     },
     "execution_count": 6,
     "metadata": {},
     "output_type": "execute_result"
    },
    {
     "data": {
      "image/png": "[encoded data removed]",
      "text/plain": [
       "<Figure size 432x288 with 1 Axes>"
      ]
     },
     "metadata": {},
     "output_type": "display_data"
    }
   ],
   "source": [
    "#Is the data balanced?\n",
    "y_train.value_counts().plot(kind='pie', autopct='%1.0f%%')"
   ]
  },
  {
   "cell_type": "code",
   "execution_count": 7,
   "metadata": {},
   "outputs": [],
   "source": [
    "#transforming negation abbreviated text to standard text\n",
    "re_negation = re.compile(\"n't \") #regular expression rule\n",
    "\n",
    "def negation_abbreviation_to_regular(abbreviated_text):\n",
    "    '''\n",
    "    aren't -> are not \n",
    "    '''\n",
    "    regular_text = re_negation.sub(' not ', abbreviated_text)    \n",
    "    return regular_text"
   ]
  },
  {
   "cell_type": "code",
   "execution_count": 8,
   "metadata": {},
   "outputs": [],
   "source": [
    "#get the stopwords list from the nltk library\n",
    "stopwords_list = set(stopwords.words(\"english\"))\n",
    "#print(stopwords_list)"
   ]
  },
  {
   "cell_type": "code",
   "execution_count": 9,
   "metadata": {},
   "outputs": [],
   "source": [
    "#lemmatized the words\n",
    "lemmatizer = WordNetLemmatizer()\n",
    "\n",
    "def get_lemmatized_words(words_list):\n",
    "    '''\n",
    "        cats -> cat\n",
    "        houses to house\n",
    "        apples to apple\n",
    "        started to start (v)\n",
    "    '''    \n",
    "    lemmatized_words = [lemmatizer.lemmatize(word) for word in words_list]\n",
    "    lemmatized_words = [lemmatizer.lemmatize(word, \"v\") for word in lemmatized_words]\n",
    "    \n",
    "    return lemmatized_words"
   ]
  },
  {
   "cell_type": "code",
   "execution_count": 10,
   "metadata": {},
   "outputs": [],
   "source": [
    "def get_clean_review(raw_review):\n",
    "    '''\n",
    "        cleaning the review text\n",
    "    '''\n",
    "    #remove html tags from the raw review\n",
    "    review_text = BeautifulSoup(raw_review).get_text()\n",
    "    \n",
    "    #transforming the negation abbreviated terms to regular terms\n",
    "    review_text_regular = negation_abbreviation_to_regular(review_text)\n",
    "    \n",
    "    #removing non-alphanumeric terms\n",
    "    review_text_alphanum = re.sub(\"[^a-zA-Z_0-9]\", \" \", review_text_regular)\n",
    "    \n",
    "    #converting the characters into lowercase\n",
    "    review_text_lower_case = review_text_alphanum.lower()\n",
    "\n",
    "    #tokenize the text into words\n",
    "    review_words = review_text_lower_case.split()\n",
    "    \n",
    "    #removing stop words\n",
    "    review_words_meaningful = [word for word in review_words if word not in stopwords_list]\n",
    "    \n",
    "    #lematization\n",
    "    review_words_lemmatized = get_lemmatized_words(review_words_meaningful)\n",
    "    \n",
    "    clean_review = \" \".join(review_words_lemmatized)\n",
    "    return clean_review"
   ]
  },
  {
   "cell_type": "code",
   "execution_count": 11,
   "metadata": {},
   "outputs": [],
   "source": [
    "#cleaning reviews\n",
    "train_reviews_clean = []\n",
    "for review in X_train['Tweet']:\n",
    "    clean_review = get_clean_review(review)\n",
    "    train_reviews_clean.append(clean_review)\n",
    "    "
   ]
  },
  {
   "cell_type": "code",
   "execution_count": 12,
   "metadata": {},
   "outputs": [],
   "source": [
    "#vectorization the text data\n",
    "#vectorizer = TfidfVectorizer(max_features=10000, ngram_range = (1,2))\n",
    "#vectorizer = TfidfVectorizer(max_features=10000, ngram_range = (1,2))\n",
    "#vectorizer = HashingVectorizer(n_features=10000, ngram_range = (1,2))\n",
    "vectorizer = CountVectorizer(max_features=10000, ngram_range = (1,2))\n",
    "#vectorizer = CountVectorizer(ngram_range = (1,2))"
   ]
  },
  {
   "cell_type": "code",
   "execution_count": 13,
   "metadata": {},
   "outputs": [
    {
     "data": {
      "text/plain": [
       "(5000, 10000)"
      ]
     },
     "execution_count": 13,
     "metadata": {},
     "output_type": "execute_result"
    }
   ],
   "source": [
    "X_train_features = vectorizer.fit_transform(train_reviews_clean)\n",
    "X_train_features.shape"
   ]
  },
  {
   "cell_type": "code",
   "execution_count": 14,
   "metadata": {},
   "outputs": [],
   "source": [
    "from sklearn.ensemble import RandomForestRegressor\n",
    "from sklearn.datasets import make_regression\n",
    "#X_train_features, y_train = make_regression(n_features=10000, n_informative=2,random_state=0, shuffle=False)\n",
    "#model= RandomForestRegressor()"
   ]
  },
  {
   "cell_type": "code",
   "execution_count": 15,
   "metadata": {},
   "outputs": [],
   "source": [
    "#from sklearn import svm"
   ]
  },
  {
   "cell_type": "code",
   "execution_count": 16,
   "metadata": {},
   "outputs": [],
   "source": [
    "#model = svm.SVR()"
   ]
  },
  {
   "cell_type": "code",
   "execution_count": 17,
   "metadata": {},
   "outputs": [
    {
     "data": {
      "text/plain": [
       "LogisticRegression(random_state=0)"
      ]
     },
     "execution_count": 17,
     "metadata": {},
     "output_type": "execute_result"
    }
   ],
   "source": [
    "#Training machine learning model (Logistic regression)\n",
    "# Define the model\n",
    "model = LogisticRegression(random_state=0)\n",
    "model.fit(X_train_features, y_train)\n",
    "#print(model.intercept_)\n",
    "#print(model.coef_[0])"
   ]
  },
  {
   "cell_type": "code",
   "execution_count": 18,
   "metadata": {},
   "outputs": [],
   "source": [
    "#prediction on the training dataset\n",
    "y_train_pred = model.predict(X_train_features)"
   ]
  },
  {
   "cell_type": "code",
   "execution_count": 19,
   "metadata": {},
   "outputs": [
    {
     "ename": "NameError",
     "evalue": "name 'onfusion_matrix_lr' is not defined",
     "output_type": "error",
     "traceback": [
      "\u001b[0;31m---------------------------------------------------------------------------\u001b[0m",
      "\u001b[0;31mNameError\u001b[0m                                 Traceback (most recent call last)",
      "\u001b[0;32m/var/folders/jt/z3qyvs0128g_pdpmxjd_t_pw0000gn/T/ipykernel_61989/2438338059.py\u001b[0m in \u001b[0;36m<module>\u001b[0;34m\u001b[0m\n\u001b[1;32m      2\u001b[0m \u001b[0;31m#confusion_matrix_lr = confusion_matrix(y_train, y_train_pred, labels=[1,0])\u001b[0m\u001b[0;34m\u001b[0m\u001b[0;34m\u001b[0m\u001b[0;34m\u001b[0m\u001b[0m\n\u001b[1;32m      3\u001b[0m \u001b[0mconfusion_matrix_lr\u001b[0m \u001b[0;34m=\u001b[0m \u001b[0mconfusion_matrix\u001b[0m\u001b[0;34m(\u001b[0m\u001b[0my_train\u001b[0m\u001b[0;34m,\u001b[0m \u001b[0my_train_pred\u001b[0m\u001b[0;34m)\u001b[0m\u001b[0;34m\u001b[0m\u001b[0;34m\u001b[0m\u001b[0m\n\u001b[0;32m----> 4\u001b[0;31m \u001b[0monfusion_matrix_lr\u001b[0m\u001b[0;34m\u001b[0m\u001b[0;34m\u001b[0m\u001b[0m\n\u001b[0m",
      "\u001b[0;31mNameError\u001b[0m: name 'onfusion_matrix_lr' is not defined"
     ]
    }
   ],
   "source": [
    "#confusion matrix for the training dataset\n",
    "#confusion_matrix_lr = confusion_matrix(y_train, y_train_pred, labels=[1,0])\n",
    "confusion_matrix_lr = confusion_matrix(y_train, y_train_pred)\n",
    "onfusion_matrix_lr"
   ]
  },
  {
   "cell_type": "code",
   "execution_count": null,
   "metadata": {},
   "outputs": [],
   "source": [
    "#classification report for the trianing dataset\n",
    "cls_report = classification_report(y_train, y_train_pred)\n",
    "print (cls_report)"
   ]
  },
  {
   "cell_type": "code",
   "execution_count": null,
   "metadata": {},
   "outputs": [],
   "source": [
    "#processing the test dataset\n",
    "\n",
    "#loading the testing dataset\n",
    "test_data = pd.read_csv('/Users/meimei/Documents/UT1/Data Analytics/sentiment-analysis-of-covid-19-related-tweets/validation.csv', header=0, delimiter=',')\n",
    "\n",
    "#Show the top part of the data table\n",
    "test_data.head()\n"
   ]
  },
  {
   "cell_type": "code",
   "execution_count": null,
   "metadata": {},
   "outputs": [],
   "source": [
    "test_data.info()"
   ]
  },
  {
   "cell_type": "code",
   "execution_count": null,
   "metadata": {},
   "outputs": [],
   "source": [
    "X_test = test_data['Tweet']\n",
    "X_test[0]"
   ]
  },
  {
   "cell_type": "code",
   "execution_count": null,
   "metadata": {},
   "outputs": [],
   "source": [
    "#cleaning test reviews\n",
    "test_reviews_clean = []\n",
    "for review in X_test:\n",
    "    clean_review = get_clean_review(review)\n",
    "    test_reviews_clean.append(clean_review)"
   ]
  },
  {
   "cell_type": "code",
   "execution_count": null,
   "metadata": {},
   "outputs": [],
   "source": [
    "#vectorize the test reviews\n",
    "X_test_features = vectorizer.fit_transform(test_reviews_clean)\n"
   ]
  },
  {
   "cell_type": "code",
   "execution_count": null,
   "metadata": {},
   "outputs": [],
   "source": [
    "#predict the test review features on the trained model\n",
    "test_pred = model.predict(X_test_features)"
   ]
  },
  {
   "cell_type": "code",
   "execution_count": null,
   "metadata": {},
   "outputs": [],
   "source": [
    "test_pred[0:5]"
   ]
  },
  {
   "cell_type": "code",
   "execution_count": null,
   "metadata": {},
   "outputs": [],
   "source": [
    "test_output = pd.DataFrame(data={\"ID\":test_data['ID'], \"Labels\":test_pred})\n",
    "print(test_output.head())\n",
    "\n",
    "test_output.to_csv('/Users/meimei/Documents/UT1/Data Analytics/sentiment-analysis-of-covid-19-related-tweets/prediction.csv', index=False)"
   ]
  },
  {
   "cell_type": "code",
   "execution_count": null,
   "metadata": {},
   "outputs": [],
   "source": []
  }
 ],
 "metadata": {
  "kernelspec": {
   "display_name": "Python 3 (ipykernel)",
   "language": "python",
   "name": "python3"
  },
  "language_info": {
   "codemirror_mode": {
    "name": "ipython",
    "version": 3
   },
   "file_extension": ".py",
   "mimetype": "text/x-python",
   "name": "python",
   "nbconvert_exporter": "python",
   "pygments_lexer": "ipython3",
   "version": "3.9.0"
  }
 },
 "nbformat": 4,
 "nbformat_minor": 4
}
